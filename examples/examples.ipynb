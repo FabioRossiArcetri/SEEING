{
 "cells": [
  {
   "cell_type": "code",
   "execution_count": 1,
   "metadata": {},
   "outputs": [],
   "source": [
    "# import seeing\n",
    "\n",
    "from seeing import *"
   ]
  },
  {
   "cell_type": "code",
   "execution_count": 2,
   "metadata": {},
   "outputs": [
    {
     "name": "stdout",
     "output_type": "stream",
     "text": [
      "oneFunction\n"
     ]
    },
    {
     "data": {
      "text/latex": [
       "$\\displaystyle e^{- a x^{2} - b y^{2}}$"
      ],
      "text/plain": [
       "exp(-a*x**2 - b*y**2)"
      ]
     },
     "metadata": {},
     "output_type": "display_data"
    },
    {
     "name": "stdout",
     "output_type": "stream",
     "text": [
      "anotherFunction\n"
     ]
    },
    {
     "data": {
      "text/latex": [
       "$\\displaystyle e^{\\sin{\\left(b y \\right)}} + \\sin^{2}{\\left(a x \\right)}$"
      ],
      "text/plain": [
       "exp(sin(b*y)) + sin(a*x)**2"
      ]
     },
     "metadata": {},
     "output_type": "display_data"
    }
   ],
   "source": [
    "# create a Formulary\n",
    "\n",
    "def oneFunction():\n",
    "    x, y, a, b = sp.symbols(\"x y a b\")\n",
    "    return sp.exp(-a*x**2-b*y**2)\n",
    "    \n",
    "def anotherFunction():\n",
    "    x, y, a, b = sp.symbols(\"x y a b\")\n",
    "    return sp.sin(a*x)**2 + sp.exp(sp.sin(b*y) )\n",
    "\n",
    "formulas_names = ['oneFunction', 'anotherFunction']\n",
    "formulas = [oneFunction(), anotherFunction()]\n",
    "\n",
    "localFormulary = Formulary(\"A local formulary\", formulas_names, formulas)\n",
    "localFormulary.displayAll()"
   ]
  },
  {
   "cell_type": "code",
   "execution_count": 3,
   "metadata": {},
   "outputs": [],
   "source": [
    "# Save to file\n",
    "\n",
    "localFormulary.writeToFile(\"local.frm\")"
   ]
  },
  {
   "cell_type": "code",
   "execution_count": 4,
   "metadata": {},
   "outputs": [
    {
     "name": "stdout",
     "output_type": "stream",
     "text": [
      "oneFunction\n"
     ]
    },
    {
     "data": {
      "text/latex": [
       "$\\displaystyle e^{- a x^{2} - b y^{2}}$"
      ],
      "text/plain": [
       "exp((-a)*x**2 - b*y**2)"
      ]
     },
     "metadata": {},
     "output_type": "display_data"
    },
    {
     "name": "stdout",
     "output_type": "stream",
     "text": [
      "anotherFunction\n"
     ]
    },
    {
     "data": {
      "text/latex": [
       "$\\displaystyle e^{\\sin{\\left(b y \\right)}} + \\sin^{2}{\\left(a x \\right)}$"
      ],
      "text/plain": [
       "exp(sin(b*y)) + sin(a*x)**2"
      ]
     },
     "metadata": {},
     "output_type": "display_data"
    }
   ],
   "source": [
    "# Load from file\n",
    "\n",
    "localCopy = Formulary.loadFromFile(\"local.frm\")\n",
    "localCopy.displayAll()"
   ]
  },
  {
   "cell_type": "code",
   "execution_count": 5,
   "metadata": {},
   "outputs": [
    {
     "data": {
      "text/latex": [
       "$\\displaystyle e^{- a x^{2} - b y^{2}}$"
      ],
      "text/plain": [
       "exp(-a*x**2 - b*y**2)"
      ]
     },
     "metadata": {},
     "output_type": "display_data"
    }
   ],
   "source": [
    "# access a formula by name\n",
    "\n",
    "display(localFormulary['oneFunction'])"
   ]
  },
  {
   "cell_type": "code",
   "execution_count": 6,
   "metadata": {},
   "outputs": [
    {
     "data": {
      "text/latex": [
       "$\\displaystyle e^{- 4 x^{2} - 7 y^{2}}$"
      ],
      "text/plain": [
       "exp(-4*x**2 - 7*y**2)"
      ]
     },
     "metadata": {},
     "output_type": "display_data"
    }
   ],
   "source": [
    "# substitute Parameters with values using string names\n",
    "\n",
    "specializedOneFunc = subsParamsByName(localFormulary['oneFunction'], {'a':4, 'b':7 })\n",
    "display(specializedOneFunc)"
   ]
  },
  {
   "cell_type": "code",
   "execution_count": 13,
   "metadata": {},
   "outputs": [
    {
     "name": "stdout",
     "output_type": "stream",
     "text": [
      "def _lambdifygenerated(x):\n",
      "    return (exp(-7*y**2))\n",
      "\n",
      "def _lambdifygenerated(a, b):\n",
      "    return (exp(-2.25*a - 9.86960440108936*b))\n",
      "\n",
      "def _lambdifygenerated(x, y, a):\n",
      "    return (exp(-a*x**2 - y**2))\n",
      "\n",
      "<function _deprecated.<locals>.wrap.<locals>.call at 0x7f2155b4aea0>\n",
      "def _lambdifygenerated(x):\n",
      "    return (exp(-7*y**2))\n",
      "\n",
      "def _lambdifygenerated(a, b):\n",
      "    return (exp(-2.25*a - 9.86960440108936*b))\n",
      "\n",
      "def _lambdifygenerated(x, y, a):\n",
      "    return (exp(-a*x**2 - y**2))\n",
      "\n",
      "<ufunc 'cupy_exp'>\n"
     ]
    }
   ],
   "source": [
    "# obtain a numpy or cupy lambda function\n",
    "\n",
    "import inspect\n",
    "\n",
    "# you decide which are the free variables and which are the parameters\n",
    "\n",
    "# cpu\n",
    "alambda1c = localFormulary.getRestrictedLambda('oneFunction', {'a':4, 'b':7, 'x':0 }, ['x'], modules=cpulib)\n",
    "alambda2c = localFormulary.getRestrictedLambda('oneFunction', {'x':1.5, 'y':np.pi }, ['a', 'b'], modules=cpulib)\n",
    "alambda3c = localFormulary.getRestrictedLambda('oneFunction', {'b':1}, ['x', 'y', 'a'], modules=cpulib)\n",
    "print(inspect.getsource(alambda1c))\n",
    "print(inspect.getsource(alambda2c))\n",
    "print(inspect.getsource(alambda3c))\n",
    "print(alambda1c.__globals__['exp'])\n",
    "\n",
    "# gpu\n",
    "alambda1g = localFormulary.getRestrictedLambda('oneFunction', {'a':4, 'b':7, 'x':0 }, ['x'], modules=gpulib)\n",
    "alambda2g = localFormulary.getRestrictedLambda('oneFunction', {'x':1.5, 'y':np.pi }, ['a', 'b'], modules=gpulib)\n",
    "alambda3g = localFormulary.getRestrictedLambda('oneFunction', {'b':1}, ['x', 'y', 'a'], modules=gpulib)\n",
    "print(inspect.getsource(alambda1g))\n",
    "print(inspect.getsource(alambda2g))\n",
    "print(inspect.getsource(alambda3g))\n",
    "print(alambda1g.__globals__['exp'])\n",
    "\n",
    "# there is a versions of getRestrictedLambda that is not a member of a Formulary, to which you can pass directly a sympy expression"
   ]
  },
  {
   "cell_type": "code",
   "execution_count": null,
   "metadata": {},
   "outputs": [],
   "source": [
    "# How to use a Calculator\n",
    "# Use it evaluate a function over a cetrain domain or to integrate it\n",
    "# Can be used alone or together with a Formulary\n",
    "\n",
    "mCalc = Calculator()\n",
    "# Alone:\n",
    "\n",
    "\n",
    "# With a Formulary\n",
    "\n"
   ]
  },
  {
   "cell_type": "code",
   "execution_count": 3,
   "metadata": {
    "slideshow": {
     "slide_type": "subslide"
    }
   },
   "outputs": [
    {
     "data": {
      "text/latex": [
       "$\\displaystyle \\int\\limits_{-\\infty}^{\\infty}\\int\\limits_{-\\infty}^{\\infty} e^{- a x^{2} - b y^{2}}\\, dx\\, dy$"
      ],
      "text/plain": [
       "Integral(exp(-a*x**2 - b*y**2), (x, -oo, oo), (y, -oo, oo))"
      ]
     },
     "metadata": {},
     "output_type": "display_data"
    }
   ],
   "source": [
    "# Or define an integral\n",
    "i1 = sp.Integral(f1, (x,-sp.oo,+sp.oo), (y,-sp.oo,+sp.oo))\n",
    "display(i1)"
   ]
  },
  {
   "cell_type": "code",
   "execution_count": 4,
   "metadata": {
    "slideshow": {
     "slide_type": "subslide"
    }
   },
   "outputs": [
    {
     "data": {
      "text/latex": [
       "$\\displaystyle \\frac{\\sqrt{2} \\pi}{2}$"
      ],
      "text/plain": [
       "sqrt(2)*pi/2"
      ]
     },
     "metadata": {},
     "output_type": "display_data"
    }
   ],
   "source": [
    "# Specialize\n",
    "i2 = i1.subs([(a, 1), (b,2)])\n",
    "# Evaluate\n",
    "display(i2.doit())"
   ]
  },
  {
   "cell_type": "code",
   "execution_count": 5,
   "metadata": {
    "slideshow": {
     "slide_type": "subslide"
    }
   },
   "outputs": [
    {
     "data": {
      "text/latex": [
       "$\\displaystyle - 2 b y e^{- a x^{2} - b y^{2}}$"
      ],
      "text/plain": [
       "-2*b*y*exp(-a*x**2 - b*y**2)"
      ]
     },
     "metadata": {},
     "output_type": "display_data"
    }
   ],
   "source": [
    "#You could also do real symbolic computations… : \n",
    "fdev = sp.diff(f1, y) \n",
    "display(fdev)"
   ]
  },
  {
   "cell_type": "code",
   "execution_count": 6,
   "metadata": {},
   "outputs": [
    {
     "ename": "FileNotFoundError",
     "evalue": "[Errno 2] No such file or directory: 'Propagation100.frm'",
     "output_type": "error",
     "traceback": [
      "\u001b[0;31m---------------------------------------------------------------------------\u001b[0m",
      "\u001b[0;31mFileNotFoundError\u001b[0m                         Traceback (most recent call last)",
      "\u001b[0;32m<ipython-input-6-e098bd91226a>\u001b[0m in \u001b[0;36m<module>\u001b[0;34m\u001b[0m\n\u001b[0;32m----> 1\u001b[0;31m \u001b[0mpropMethodsCartesian\u001b[0m \u001b[0;34m=\u001b[0m \u001b[0mFormulary\u001b[0m\u001b[0;34m.\u001b[0m\u001b[0mloadFromFile\u001b[0m\u001b[0;34m(\u001b[0m\u001b[0;34m'Propagation100.frm'\u001b[0m\u001b[0;34m)\u001b[0m\u001b[0;34m\u001b[0m\u001b[0;34m\u001b[0m\u001b[0m\n\u001b[0m\u001b[1;32m      2\u001b[0m \u001b[0;34m\u001b[0m\u001b[0m\n\u001b[1;32m      3\u001b[0m approximations = [\n\u001b[1;32m      4\u001b[0m     \u001b[0;34m\"Rayleigh-Sommerfeld\"\u001b[0m\u001b[0;34m,\u001b[0m\u001b[0;34m\u001b[0m\u001b[0;34m\u001b[0m\u001b[0m\n\u001b[1;32m      5\u001b[0m     \u001b[0;34m\"Approximate Rayleigh-Sommerfeld\"\u001b[0m\u001b[0;34m,\u001b[0m\u001b[0;34m\u001b[0m\u001b[0;34m\u001b[0m\u001b[0m\n",
      "\u001b[0;32m~/dev/SEEING/formulary.py\u001b[0m in \u001b[0;36mloadFromFile\u001b[0;34m(filename)\u001b[0m\n\u001b[1;32m     48\u001b[0m         \u001b[0mnames\u001b[0m \u001b[0;34m=\u001b[0m \u001b[0;34m[\u001b[0m\u001b[0;34m]\u001b[0m\u001b[0;34m\u001b[0m\u001b[0;34m\u001b[0m\u001b[0m\n\u001b[1;32m     49\u001b[0m         \u001b[0mformulas\u001b[0m \u001b[0;34m=\u001b[0m \u001b[0;34m[\u001b[0m\u001b[0;34m]\u001b[0m\u001b[0;34m\u001b[0m\u001b[0;34m\u001b[0m\u001b[0m\n\u001b[0;32m---> 50\u001b[0;31m         \u001b[0mf\u001b[0m \u001b[0;34m=\u001b[0m \u001b[0mopen\u001b[0m\u001b[0;34m(\u001b[0m\u001b[0mfilename\u001b[0m\u001b[0;34m,\u001b[0m \u001b[0;34m\"r\"\u001b[0m\u001b[0;34m)\u001b[0m\u001b[0;34m\u001b[0m\u001b[0;34m\u001b[0m\u001b[0m\n\u001b[0m\u001b[1;32m     51\u001b[0m         \u001b[0;32mfor\u001b[0m \u001b[0maname\u001b[0m \u001b[0;32min\u001b[0m \u001b[0mf\u001b[0m\u001b[0;34m:\u001b[0m\u001b[0;34m\u001b[0m\u001b[0;34m\u001b[0m\u001b[0m\n\u001b[1;32m     52\u001b[0m             \u001b[0mnames\u001b[0m\u001b[0;34m.\u001b[0m\u001b[0mappend\u001b[0m\u001b[0;34m(\u001b[0m\u001b[0maname\u001b[0m\u001b[0;34m.\u001b[0m\u001b[0mreplace\u001b[0m\u001b[0;34m(\u001b[0m\u001b[0;34m'\\n'\u001b[0m\u001b[0;34m,\u001b[0m \u001b[0;34m''\u001b[0m\u001b[0;34m)\u001b[0m\u001b[0;34m)\u001b[0m\u001b[0;34m\u001b[0m\u001b[0;34m\u001b[0m\u001b[0m\n",
      "\u001b[0;31mFileNotFoundError\u001b[0m: [Errno 2] No such file or directory: 'Propagation100.frm'"
     ]
    }
   ],
   "source": [
    "propMethodsCartesian = Formulary.loadFromFile('Propagation100.frm')\n",
    "\n",
    "approximations = [\n",
    "    \"Rayleigh-Sommerfeld\",\n",
    "    \"Approximate Rayleigh-Sommerfeld\",\n",
    "    \"Near Fresnel\",\n",
    "    \"Far Fresnel\"]\n",
    "\n",
    "propMethodsCartesian.display(approximations)"
   ]
  },
  {
   "cell_type": "code",
   "execution_count": null,
   "metadata": {},
   "outputs": [],
   "source": [
    "waveLength = 10e-6\n",
    "apertureRadius =  waveLength*10\n",
    "mCalc = Calculator(cp, cp.float64, 'intensity')\n",
    "xyCircle = propMethodsCartesian.getFormula('xyCircle')"
   ]
  },
  {
   "cell_type": "code",
   "execution_count": 7,
   "metadata": {},
   "outputs": [
    {
     "ename": "NameError",
     "evalue": "name 'propMethodsCartesian' is not defined",
     "output_type": "error",
     "traceback": [
      "\u001b[0;31m---------------------------------------------------------------------------\u001b[0m",
      "\u001b[0;31mNameError\u001b[0m                                 Traceback (most recent call last)",
      "\u001b[0;32m<ipython-input-7-b10b6af99d5b>\u001b[0m in \u001b[0;36m<module>\u001b[0;34m\u001b[0m\n\u001b[0;32m----> 1\u001b[0;31m \u001b[0mpropMethodsCartesian\u001b[0m\u001b[0;34m.\u001b[0m\u001b[0mdisplay\u001b[0m\u001b[0;34m(\u001b[0m\u001b[0;34m[\u001b[0m\u001b[0;34m\"Rayleigh-Sommerfeld Arg\"\u001b[0m\u001b[0;34m]\u001b[0m\u001b[0;34m)\u001b[0m\u001b[0;34m\u001b[0m\u001b[0;34m\u001b[0m\u001b[0m\n\u001b[0m\u001b[1;32m      2\u001b[0m \u001b[0;34m\u001b[0m\u001b[0m\n\u001b[1;32m      3\u001b[0m \u001b[0msubdiv_points\u001b[0m \u001b[0;34m=\u001b[0m \u001b[0;36m512\u001b[0m\u001b[0;34m\u001b[0m\u001b[0;34m\u001b[0m\u001b[0m\n\u001b[1;32m      4\u001b[0m \u001b[0;31m#ez0_c =  subsParamsByName( xyCircle, {'a':apertureRadius, 'x_0': 0.1, 'y_0': apertureRadius} )\u001b[0m\u001b[0;34m\u001b[0m\u001b[0;34m\u001b[0m\u001b[0;34m\u001b[0m\u001b[0m\n\u001b[1;32m      5\u001b[0m \u001b[0msubsDictC\u001b[0m \u001b[0;34m=\u001b[0m \u001b[0;34m{\u001b[0m\u001b[0;34m'E_0'\u001b[0m\u001b[0;34m:\u001b[0m \u001b[0;36m1\u001b[0m\u001b[0;34m,\u001b[0m \u001b[0;34m'z_1'\u001b[0m\u001b[0;34m:\u001b[0m \u001b[0;36m2\u001b[0m\u001b[0;34m*\u001b[0m\u001b[0mapertureRadius\u001b[0m\u001b[0;34m,\u001b[0m \u001b[0;34m'x_0'\u001b[0m\u001b[0;34m:\u001b[0m \u001b[0;36m0\u001b[0m\u001b[0;34m,\u001b[0m \u001b[0;34m'y_0'\u001b[0m\u001b[0;34m:\u001b[0m \u001b[0mapertureRadius\u001b[0m\u001b[0;34m,\u001b[0m \u001b[0;34m'lambda'\u001b[0m\u001b[0;34m:\u001b[0m \u001b[0mwaveLength\u001b[0m\u001b[0;34m,\u001b[0m \u001b[0;34m'a'\u001b[0m\u001b[0;34m:\u001b[0m\u001b[0mapertureRadius\u001b[0m\u001b[0;34m}\u001b[0m\u001b[0;34m\u001b[0m\u001b[0;34m\u001b[0m\u001b[0m\n",
      "\u001b[0;31mNameError\u001b[0m: name 'propMethodsCartesian' is not defined"
     ]
    }
   ],
   "source": [
    "propMethodsCartesian.display([\"Rayleigh-Sommerfeld Arg\"])\n",
    "\n",
    "subdiv_points = 512\n",
    "#ez0_c =  subsParamsByName( xyCircle, {'a':apertureRadius, 'x_0': 0.1, 'y_0': apertureRadius} )\n",
    "subsDictC = {'E_0': 1, 'z_1': 2*apertureRadius, 'x_0': 0, 'y_0': apertureRadius, 'lambda': waveLength, 'a':apertureRadius}\n",
    "paramAndRanges = [( 'x_1', -apertureRadius, apertureRadius, subdiv_points, 'linear' ),\n",
    "                  ( 'y_1', -apertureRadius, apertureRadius, subdiv_points, 'linear' )]\n",
    "\n",
    "#xx, ez = propMethodsCartesian.evaluateFormula(\"Rayleigh-Sommerfeld Arg\", subsDictC, paramAndRanges, mCalc)\n",
    "#fig, ax = plt.subplots(figsize=(10,10))\n",
    "#ax.imshow( np.real(ez), cmap='hot' )\n",
    "\n",
    "propMethodsCartesian.plotFormula(\"Rayleigh-Sommerfeld Arg\", subsDictC, paramAndRanges, mCalc)\n",
    "\n",
    "paramAndRanges = [( 'x_1', -apertureRadius, apertureRadius, subdiv_points, 'linear' )]\n",
    "\n",
    "subsDictC = {'E_0': 1, 'z_1': 2*apertureRadius, 'y_1':0.0, 'x_0': 0, 'y_0': apertureRadius, 'lambda': waveLength, 'a':apertureRadius}\n",
    "propMethodsCartesian.plotFormula(\"Rayleigh-Sommerfeld Arg\", subsDictC, paramAndRanges, mCalc)"
   ]
  },
  {
   "cell_type": "code",
   "execution_count": 8,
   "metadata": {},
   "outputs": [
    {
     "ename": "NameError",
     "evalue": "name 'xyCircle' is not defined",
     "output_type": "error",
     "traceback": [
      "\u001b[0;31m---------------------------------------------------------------------------\u001b[0m",
      "\u001b[0;31mNameError\u001b[0m                                 Traceback (most recent call last)",
      "\u001b[0;32m<ipython-input-8-54663e653168>\u001b[0m in \u001b[0;36m<module>\u001b[0;34m\u001b[0m\n\u001b[1;32m      1\u001b[0m \u001b[0msubdiv_points\u001b[0m \u001b[0;34m=\u001b[0m \u001b[0;36m256\u001b[0m\u001b[0;34m\u001b[0m\u001b[0;34m\u001b[0m\u001b[0m\n\u001b[0;32m----> 2\u001b[0;31m \u001b[0mez0_c\u001b[0m \u001b[0;34m=\u001b[0m  \u001b[0msubsParamsByName\u001b[0m\u001b[0;34m(\u001b[0m \u001b[0mxyCircle\u001b[0m\u001b[0;34m,\u001b[0m \u001b[0;34m{\u001b[0m\u001b[0;34m'a'\u001b[0m\u001b[0;34m:\u001b[0m\u001b[0mapertureRadius\u001b[0m\u001b[0;34m}\u001b[0m \u001b[0;34m)\u001b[0m\u001b[0;34m\u001b[0m\u001b[0;34m\u001b[0m\u001b[0m\n\u001b[0m\u001b[1;32m      3\u001b[0m \u001b[0msubsDictC\u001b[0m \u001b[0;34m=\u001b[0m \u001b[0;34m{\u001b[0m\u001b[0;34m'E_0'\u001b[0m\u001b[0;34m:\u001b[0m \u001b[0mez0_c\u001b[0m\u001b[0;34m,\u001b[0m \u001b[0;34m'x_1'\u001b[0m\u001b[0;34m:\u001b[0m \u001b[0;36m0\u001b[0m\u001b[0;34m,\u001b[0m \u001b[0;34m'y_1'\u001b[0m\u001b[0;34m:\u001b[0m \u001b[0;36m0\u001b[0m\u001b[0;34m,\u001b[0m \u001b[0;34m'lambda'\u001b[0m\u001b[0;34m:\u001b[0m \u001b[0mwaveLength\u001b[0m\u001b[0;34m,\u001b[0m \u001b[0;34m'a'\u001b[0m\u001b[0;34m:\u001b[0m\u001b[0mapertureRadius\u001b[0m\u001b[0;34m}\u001b[0m\u001b[0;34m\u001b[0m\u001b[0;34m\u001b[0m\u001b[0m\n\u001b[1;32m      4\u001b[0m \u001b[0mparamAndRange\u001b[0m \u001b[0;34m=\u001b[0m \u001b[0;34m(\u001b[0m \u001b[0;34m'z_1'\u001b[0m\u001b[0;34m,\u001b[0m \u001b[0;36m0.01\u001b[0m\u001b[0;34m*\u001b[0m\u001b[0mapertureRadius\u001b[0m\u001b[0;34m,\u001b[0m \u001b[0mapertureRadius\u001b[0m\u001b[0;34m*\u001b[0m\u001b[0;36m100\u001b[0m\u001b[0;34m,\u001b[0m \u001b[0msubdiv_points\u001b[0m\u001b[0;34m,\u001b[0m \u001b[0;34m'geometric'\u001b[0m \u001b[0;34m)\u001b[0m\u001b[0;34m\u001b[0m\u001b[0;34m\u001b[0m\u001b[0m\n\u001b[1;32m      5\u001b[0m \u001b[0;34m\u001b[0m\u001b[0m\n",
      "\u001b[0;31mNameError\u001b[0m: name 'xyCircle' is not defined"
     ]
    }
   ],
   "source": [
    "subdiv_points = 256\n",
    "ez0_c =  subsParamsByName( xyCircle, {'a':apertureRadius} )\n",
    "subsDictC = {'E_0': ez0_c, 'x_1': 0, 'y_1': 0, 'lambda': waveLength, 'a':apertureRadius}\n",
    "paramAndRange = ( 'z_1', 0.01*apertureRadius, apertureRadius*100, subdiv_points, 'geometric' )\n",
    "\n",
    "fig, ax = plt.subplots(figsize=(10,5))\n",
    "plt.xscale('log')\n",
    "plt.yscale('linear')\n",
    "\n",
    "for appr in reversed(approximations):\n",
    "    eeq = propMethodsCartesian.getFormula(appr)\n",
    "    xplot2, zplot2 = mCalc.IntegralEvalE(subsParamsByName(eeq, subsDictC), [paramAndRange], None, 'trap')\n",
    "    plt.plot(xplot2[0]/apertureRadius, np.clip(zplot2, -4.5, 4.5), label=appr)\n",
    "        \n",
    "plt.legend(loc=(1.0, 0.78))\n",
    "plt.show()"
   ]
  },
  {
   "cell_type": "code",
   "execution_count": 9,
   "metadata": {},
   "outputs": [
    {
     "ename": "NameError",
     "evalue": "name 'xyCircle' is not defined",
     "output_type": "error",
     "traceback": [
      "\u001b[0;31m---------------------------------------------------------------------------\u001b[0m",
      "\u001b[0;31mNameError\u001b[0m                                 Traceback (most recent call last)",
      "\u001b[0;32m<ipython-input-9-a0ab233d08b0>\u001b[0m in \u001b[0;36m<module>\u001b[0;34m\u001b[0m\n\u001b[1;32m      1\u001b[0m \u001b[0msubdiv_points\u001b[0m \u001b[0;34m=\u001b[0m \u001b[0;36m256\u001b[0m\u001b[0;34m\u001b[0m\u001b[0;34m\u001b[0m\u001b[0m\n\u001b[0;32m----> 2\u001b[0;31m \u001b[0mez0_l\u001b[0m \u001b[0;34m=\u001b[0m  \u001b[0msubsParamsByName\u001b[0m\u001b[0;34m(\u001b[0m \u001b[0mxyCircle\u001b[0m\u001b[0;34m,\u001b[0m \u001b[0;34m{\u001b[0m\u001b[0;34m'a'\u001b[0m\u001b[0;34m:\u001b[0m\u001b[0mapertureRadius\u001b[0m\u001b[0;34m}\u001b[0m \u001b[0;34m)\u001b[0m\u001b[0;34m\u001b[0m\u001b[0;34m\u001b[0m\u001b[0m\n\u001b[0m\u001b[1;32m      3\u001b[0m \u001b[0msubsDict\u001b[0m \u001b[0;34m=\u001b[0m \u001b[0;34m{\u001b[0m\u001b[0;34m'E_0'\u001b[0m\u001b[0;34m:\u001b[0m \u001b[0mez0_l\u001b[0m\u001b[0;34m,\u001b[0m \u001b[0;34m'y_1'\u001b[0m\u001b[0;34m:\u001b[0m \u001b[0;36m0\u001b[0m\u001b[0;34m,\u001b[0m \u001b[0;34m'lambda'\u001b[0m\u001b[0;34m:\u001b[0m \u001b[0mwaveLength\u001b[0m\u001b[0;34m,\u001b[0m \u001b[0;34m'a'\u001b[0m\u001b[0;34m:\u001b[0m\u001b[0mapertureRadius\u001b[0m\u001b[0;34m}\u001b[0m\u001b[0;34m\u001b[0m\u001b[0;34m\u001b[0m\u001b[0m\n\u001b[1;32m      4\u001b[0m \u001b[0mparamsAndRanges\u001b[0m \u001b[0;34m=\u001b[0m \u001b[0;34m[\u001b[0m \u001b[0;34m(\u001b[0m\u001b[0;34m'x_1'\u001b[0m\u001b[0;34m,\u001b[0m \u001b[0;34m-\u001b[0m\u001b[0;36m1.5\u001b[0m\u001b[0;34m*\u001b[0m\u001b[0mapertureRadius\u001b[0m\u001b[0;34m,\u001b[0m \u001b[0;36m1.5\u001b[0m\u001b[0;34m*\u001b[0m\u001b[0mapertureRadius\u001b[0m\u001b[0;34m,\u001b[0m \u001b[0msubdiv_points\u001b[0m\u001b[0;34m,\u001b[0m \u001b[0;34m'linear'\u001b[0m\u001b[0;34m)\u001b[0m\u001b[0;34m,\u001b[0m \u001b[0;34m(\u001b[0m\u001b[0;34m'z_1'\u001b[0m\u001b[0;34m,\u001b[0m  \u001b[0mwaveLength\u001b[0m\u001b[0;34m,\u001b[0m \u001b[0;36m15\u001b[0m\u001b[0;34m*\u001b[0m\u001b[0mapertureRadius\u001b[0m\u001b[0;34m,\u001b[0m \u001b[0msubdiv_points\u001b[0m\u001b[0;34m,\u001b[0m \u001b[0;34m'linear'\u001b[0m\u001b[0;34m)\u001b[0m\u001b[0;34m]\u001b[0m\u001b[0;34m\u001b[0m\u001b[0;34m\u001b[0m\u001b[0m\n\u001b[1;32m      5\u001b[0m \u001b[0meeq\u001b[0m \u001b[0;34m=\u001b[0m \u001b[0mpropMethodsCartesian\u001b[0m\u001b[0;34m.\u001b[0m\u001b[0mgetFormula\u001b[0m\u001b[0;34m(\u001b[0m\u001b[0;34m\"Rayleigh-Sommerfeld\"\u001b[0m\u001b[0;34m)\u001b[0m\u001b[0;34m\u001b[0m\u001b[0;34m\u001b[0m\u001b[0m\n",
      "\u001b[0;31mNameError\u001b[0m: name 'xyCircle' is not defined"
     ]
    }
   ],
   "source": [
    "subdiv_points = 256\n",
    "ez0_l =  subsParamsByName( xyCircle, {'a':apertureRadius} )\n",
    "subsDict = {'E_0': ez0_l, 'y_1': 0, 'lambda': waveLength, 'a':apertureRadius}\n",
    "paramsAndRanges = [ ('x_1', -1.5*apertureRadius, 1.5*apertureRadius, subdiv_points, 'linear'), ('z_1',  waveLength, 15*apertureRadius, subdiv_points, 'linear')]\n",
    "eeq = propMethodsCartesian.getFormula(\"Rayleigh-Sommerfeld\")\n",
    "\n",
    "xplot, fplot1 = mCalc.IntegralEvalE(subsParamsByName(eeq, subsDict), paramsAndRanges) \n",
    "\n",
    "fig, ax = plt.subplots(figsize=(10,10))\n",
    "ax.imshow( fplot1, cmap='hot' )"
   ]
  },
  {
   "cell_type": "code",
   "execution_count": 10,
   "metadata": {},
   "outputs": [
    {
     "ename": "NameError",
     "evalue": "name 'ez0_l' is not defined",
     "output_type": "error",
     "traceback": [
      "\u001b[0;31m---------------------------------------------------------------------------\u001b[0m",
      "\u001b[0;31mNameError\u001b[0m                                 Traceback (most recent call last)",
      "\u001b[0;32m<ipython-input-10-f45754c5522d>\u001b[0m in \u001b[0;36m<module>\u001b[0;34m\u001b[0m\n\u001b[0;32m----> 1\u001b[0;31m \u001b[0msubsDict\u001b[0m \u001b[0;34m=\u001b[0m \u001b[0;34m{\u001b[0m\u001b[0;34m'E_0'\u001b[0m\u001b[0;34m:\u001b[0m \u001b[0mez0_l\u001b[0m\u001b[0;34m,\u001b[0m \u001b[0;34m'z_1'\u001b[0m\u001b[0;34m:\u001b[0m \u001b[0;36m2\u001b[0m\u001b[0;34m*\u001b[0m\u001b[0mapertureRadius\u001b[0m\u001b[0;34m,\u001b[0m \u001b[0;34m'lambda'\u001b[0m\u001b[0;34m:\u001b[0m \u001b[0mwaveLength\u001b[0m\u001b[0;34m,\u001b[0m \u001b[0;34m'a'\u001b[0m\u001b[0;34m:\u001b[0m\u001b[0mapertureRadius\u001b[0m\u001b[0;34m}\u001b[0m\u001b[0;34m\u001b[0m\u001b[0;34m\u001b[0m\u001b[0m\n\u001b[0m\u001b[1;32m      2\u001b[0m \u001b[0mparamsAndRanges\u001b[0m \u001b[0;34m=\u001b[0m \u001b[0;34m[\u001b[0m \u001b[0;34m(\u001b[0m\u001b[0;34m'x_1'\u001b[0m\u001b[0;34m,\u001b[0m \u001b[0;34m-\u001b[0m\u001b[0;36m2\u001b[0m\u001b[0;34m*\u001b[0m\u001b[0mapertureRadius\u001b[0m\u001b[0;34m,\u001b[0m \u001b[0;36m2\u001b[0m\u001b[0;34m*\u001b[0m\u001b[0mapertureRadius\u001b[0m\u001b[0;34m,\u001b[0m \u001b[0msubdiv_points\u001b[0m\u001b[0;34m,\u001b[0m \u001b[0;34m'linear'\u001b[0m\u001b[0;34m)\u001b[0m\u001b[0;34m,\u001b[0m \u001b[0;34m(\u001b[0m\u001b[0;34m'y_1'\u001b[0m\u001b[0;34m,\u001b[0m \u001b[0;34m-\u001b[0m\u001b[0;36m2\u001b[0m\u001b[0;34m*\u001b[0m\u001b[0mapertureRadius\u001b[0m\u001b[0;34m,\u001b[0m \u001b[0;36m2\u001b[0m\u001b[0;34m*\u001b[0m\u001b[0mapertureRadius\u001b[0m\u001b[0;34m,\u001b[0m \u001b[0msubdiv_points\u001b[0m\u001b[0;34m,\u001b[0m \u001b[0;34m'linear'\u001b[0m\u001b[0;34m)\u001b[0m\u001b[0;34m]\u001b[0m\u001b[0;34m\u001b[0m\u001b[0;34m\u001b[0m\u001b[0m\n\u001b[1;32m      3\u001b[0m \u001b[0meeq\u001b[0m \u001b[0;34m=\u001b[0m \u001b[0mpropMethodsCartesian\u001b[0m\u001b[0;34m.\u001b[0m\u001b[0mgetFormula\u001b[0m\u001b[0;34m(\u001b[0m\u001b[0;34m\"Rayleigh-Sommerfeld\"\u001b[0m\u001b[0;34m)\u001b[0m\u001b[0;34m\u001b[0m\u001b[0;34m\u001b[0m\u001b[0m\n\u001b[1;32m      4\u001b[0m \u001b[0;34m\u001b[0m\u001b[0m\n\u001b[1;32m      5\u001b[0m \u001b[0mxplot\u001b[0m\u001b[0;34m,\u001b[0m \u001b[0mfplot1\u001b[0m \u001b[0;34m=\u001b[0m \u001b[0mmCalc\u001b[0m\u001b[0;34m.\u001b[0m\u001b[0mIntegralEvalE\u001b[0m\u001b[0;34m(\u001b[0m\u001b[0msubsParamsByName\u001b[0m\u001b[0;34m(\u001b[0m\u001b[0meeq\u001b[0m\u001b[0;34m,\u001b[0m \u001b[0msubsDict\u001b[0m\u001b[0;34m)\u001b[0m\u001b[0;34m,\u001b[0m \u001b[0mparamsAndRanges\u001b[0m\u001b[0;34m)\u001b[0m\u001b[0;34m\u001b[0m\u001b[0;34m\u001b[0m\u001b[0m\n",
      "\u001b[0;31mNameError\u001b[0m: name 'ez0_l' is not defined"
     ]
    }
   ],
   "source": [
    "subsDict = {'E_0': ez0_l, 'z_1': 2*apertureRadius, 'lambda': waveLength, 'a':apertureRadius}\n",
    "paramsAndRanges = [ ('x_1', -2*apertureRadius, 2*apertureRadius, subdiv_points, 'linear'), ('y_1', -2*apertureRadius, 2*apertureRadius, subdiv_points, 'linear')]\n",
    "eeq = propMethodsCartesian.getFormula(\"Rayleigh-Sommerfeld\")\n",
    "\n",
    "xplot, fplot1 = mCalc.IntegralEvalE(subsParamsByName(eeq, subsDict), paramsAndRanges) \n",
    "\n",
    "fig, ax = plt.subplots(figsize=(10,10))\n",
    "ax.imshow( np.log(fplot1+1), cmap='hot' )"
   ]
  },
  {
   "cell_type": "code",
   "execution_count": 7,
   "metadata": {},
   "outputs": [
    {
     "data": {
      "image/png": "[encoded data removed]",
      "text/plain": [
       "<Figure size 720x360 with 1 Axes>"
      ]
     },
     "metadata": {
      "needs_background": "light"
     },
     "output_type": "display_data"
    }
   ],
   "source": [
    "approximationsF = [\n",
    "    \"Rayleigh-Sommerfeld\",\n",
    "    \"Far Fresnel\"]\n",
    "\n",
    "fig, ax = plt.subplots(figsize=(10,5))\n",
    "plt.xscale('log')\n",
    "plt.yscale('linear')\n",
    "\n",
    "paramAndRange = ( 'z_1', apertureRadius, apertureRadius*10, 500, 'geometric' )\n",
    "subsDictC = {'E_0': ez0_l, 'x_1': 0, 'y_1': 0, 'lambda': waveLength, 'a':apertureRadius}\n",
    "\n",
    "for appr in reversed(approximations):\n",
    "    eeq = propMethodsCartesian.getFormula(appr)\n",
    "    xplot2, zplot2 = mCalc.IntegralEvalE(subsParamsByName(eeq, subsDictC), [paramAndRange], [(subdiv_points, 'linear'), (subdiv_points, 'linear')], 'rect')\n",
    "    plt.plot(xplot2[0]/apertureRadius, np.clip(zplot2, -4.5, 4.5), label=appr)\n",
    "        \n",
    "plt.legend(loc=(1.0, 0.78))\n",
    "plt.show()"
   ]
  },
  {
   "cell_type": "code",
   "execution_count": 9,
   "metadata": {},
   "outputs": [
    {
     "data": {
      "text/latex": [
       "$\\displaystyle \\operatorname{W_{\\phi}}{\\left(\\rho \\right)} = \\int\\limits_{f_{min}}^{f_{max}} \\frac{0.0229 \\left(-1\\right)^{m_{k}} 2^{\\left(-0.5\\right) \\delta_{0 m_{j}} - 0.5 \\delta_{0 m_{k}} + 1} i^{n_{j} + n_{k}} \\sqrt{\\left(n_{j} + 1\\right) \\left(n_{k} + 1\\right)} \\left(i^{3 m_{j} + 3 m_{k}} \\cos{\\left(\\theta \\left(m_{j} + m_{k}\\right) + \\frac{\\pi \\left(\\left(1 - \\delta_{0 m_{j}}\\right) \\left(\\left(-1\\right)^{j} - 1\\right) + \\left(1 - \\delta_{0 m_{k}}\\right) \\left(\\left(-1\\right)^{k} - 1\\right)\\right)}{4} \\right)} J_{m_{j} + m_{k}}\\left(2 \\pi f h \\rho\\right) + i^{3 \\left|{m_{j} - m_{k}}\\right|} \\cos{\\left(\\theta \\left(m_{j} - m_{k}\\right) + \\frac{\\pi \\left(\\left(1 - \\delta_{0 m_{j}}\\right) \\left(\\left(-1\\right)^{j} - 1\\right) - \\left(1 - \\delta_{0 m_{k}}\\right) \\left(\\left(-1\\right)^{k} - 1\\right)\\right)}{4} \\right)} J_{\\left|{m_{j} - m_{k}}\\right|}\\left(2 \\pi f h \\rho\\right)\\right) J_{n_{j} + 1}\\left(2 \\pi R_{1} f\\right) J_{n_{j} + 1}\\left(2 \\pi R_{2} f\\right)}{\\pi R_{1} R_{2} f r_{0}^{\\frac{5}{3}} \\left(\\left(\\frac{1}{L_{0}}\\right)^{2} + f^{2}\\right)^{\\frac{11}{6}}}\\, df$"
      ],
      "text/plain": [
       "Eq(W_phi(rho), Integral(0.0229*(-1)**m_k*2**((-0.5)*KroneckerDelta(0, m_j) - 0.5*KroneckerDelta(0, m_k) + 1)*I**(n_j + n_k)*sqrt((n_j + 1)*(n_k + 1))*(I**(3*m_j + 3*m_k)*cos(theta*(m_j + m_k) + pi*((1 - KroneckerDelta(0, m_j))*((-1)**j - 1) + (1 - KroneckerDelta(0, m_k))*((-1)**k - 1))/4)*besselj(m_j + m_k, 2*pi*f*h*rho) + I**(3*Abs(m_j - m_k))*cos(theta*(m_j - m_k) + pi*((1 - KroneckerDelta(0, m_j))*((-1)**j - 1) - (1 - KroneckerDelta(0, m_k))*((-1)**k - 1))/4)*besselj(Abs(m_j - m_k), 2*pi*f*h*rho))*besselj(n_j + 1, 2*pi*R_1*f)*besselj(n_j + 1, 2*pi*R_2*f)/((pi*R_1*R_2*f*r_0**(5/3)*((1/L_0)**2 + f**2)**(11/6))), (f, f_min, f_max)))"
      ]
     },
     "metadata": {},
     "output_type": "display_data"
    },
    {
     "data": {
      "text/latex": [
       "$\\displaystyle \\operatorname{W_{\\phi}}{\\left(\\rho \\right)} = \\int\\limits_{0.001}^{10} - \\frac{0.135193784634899 J^{2}_{2}\\left(8.0 \\pi f\\right) J_{2}\\left(20000 \\pi f \\rho\\right)}{\\pi f \\left(f^{2} + 0.0016\\right)^{\\frac{11}{6}}}\\, df$"
      ],
      "text/plain": [
       "Eq(W_phi(rho), Integral(-0.135193784634899*besselj(2, 8.0*pi*f)**2*besselj(2, 20000*pi*f*rho)/(pi*f*(f**2 + 0.0016)**(11/6)), (f, 0.001, 10)))"
      ]
     },
     "metadata": {},
     "output_type": "display_data"
    },
    {
     "data": {
      "image/png": "[encoded data removed]",
      "text/plain": [
       "<Figure size 720x360 with 1 Axes>"
      ]
     },
     "metadata": {
      "needs_background": "light"
     },
     "output_type": "display_data"
    }
   ],
   "source": [
    "from seeing import *\n",
    "from zernike import *\n",
    "\n",
    "#mf.writeToFile('Mavis.frm')\n",
    "mf = Formulary.loadFromFile('Mavis.frm')\n",
    "\n",
    "mIt = Integrator(cp, cp.float64, 'none')\n",
    "covIntegral = mf['ZernikeCovarianceI']\n",
    "display(covIntegral)\n",
    "\n",
    "r0_Value = 0.15 # [m]\n",
    "L0_Value = 25.0 # [m]\n",
    "TelescopeDiameter = 8.0 #[m]\n",
    "DM_height = 10000 # [m]\n",
    "\n",
    "paramsDict = {'f_min':0.001, 'f_max':10, 'theta': np.pi/4.0, 'L_0': L0_Value, \n",
    "              'r_0': r0_Value, 'R_1': TelescopeDiameter/2.0, 'R_2': TelescopeDiameter/2.0,\n",
    "              'h': DM_height }\n",
    "\n",
    "_integral1 = subsParamsByName( cov_expr_jk(covIntegral, 2, 3), paramsDict)\n",
    "display(_integral1)\n",
    "\n",
    "rho_max = 120.0/206265.0\n",
    "xplot1, zplot1 = mIt.IntegralEvalE(_integral1, [('rho',  0.0, rho_max, 1000, 'linear')], [(1024, 'linear')], method='rect')\n",
    "\n",
    "fig, ax = plt.subplots(figsize=(10,5))\n",
    "ax.plot(xplot1[0], zplot1)\n",
    "plt.show()"
   ]
  },
  {
   "cell_type": "code",
   "execution_count": null,
   "metadata": {},
   "outputs": [],
   "source": []
  }
 ],
 "metadata": {
  "kernelspec": {
   "display_name": "Python 3",
   "language": "python",
   "name": "python3"
  },
  "language_info": {
   "codemirror_mode": {
    "name": "ipython",
    "version": 3
   },
   "file_extension": ".py",
   "mimetype": "text/x-python",
   "name": "python",
   "nbconvert_exporter": "python",
   "pygments_lexer": "ipython3",
   "version": "3.6.10"
  }
 },
 "nbformat": 4,
 "nbformat_minor": 4
}
